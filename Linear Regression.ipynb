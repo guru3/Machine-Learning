{
 "cells": [
  {
   "cell_type": "code",
   "execution_count": 10,
   "metadata": {},
   "outputs": [
    {
     "data": {
      "image/png": "[encoded data removed]",
      "text/plain": [
       "<Figure size 432x288 with 1 Axes>"
      ]
     },
     "metadata": {
      "needs_background": "light"
     },
     "output_type": "display_data"
    }
   ],
   "source": [
    "#Generate a random dataset - that will also help us validate our solution from linear regression\n",
    "import numpy as np\n",
    "import matplotlib.pyplot as plt\n",
    "\n",
    "np.random.seed(1) #so that generation is consistent over the runs\n",
    "x = np.random.rand(100, 1)\n",
    "y = 2*x + ( 5 + np.random.rand(100,1) )  # y= 2x + 5.5,  x is in [0,1]\n",
    "\n",
    "plt.scatter(x,y,s=10);\n",
    "plt.xlabel('x')\n",
    "plt.ylabel('y')\n",
    "plt.show();"
   ]
  },
  {
   "cell_type": "markdown",
   "metadata": {},
   "source": [
    "### Plotting, when possible, help us understand the data better. And so does descriptive statistics. Skipping that here, because we know how the data is created"
   ]
  },
  {
   "cell_type": "code",
   "execution_count": 2,
   "metadata": {},
   "outputs": [],
   "source": [
    "#Linear Regression\n",
    "class LinearRegression:\n",
    "    \n",
    "    def __init__( self, learning_rate = 0.01, acceptablePrecisionOfSteps = 1e-6, totalMaxIterations = 1e5 ):\n",
    "        self.learning_rate = learning_rate\n",
    "        self.precision = acceptablePrecisionOfSteps\n",
    "        self.totalMaxIterations = totalMaxIterations\n",
    "    \n",
    "    def cost( self, x, y ):\n",
    "        yPredict = self.predict(x);\n",
    "        return (1/x.shape[0])*np.sum((yPredict-y)**2)\n",
    "    \n",
    "    def fit( self, x, y ):\n",
    "        #predicts optimal parameters\n",
    "        self.theta = np.zeros( shape=(x.shape[1],1) ) #initialized to zero\n",
    "        iterCounter = 0\n",
    "        stepSize = 1.0\n",
    "        costValues = [ self.cost(x,y) ]\n",
    "        while ( (stepSize > self.precision) and iterCounter < self.totalMaxIterations ):\n",
    "            thetaNew = self.theta - (self.learning_rate/x.shape[0])*np.dot(x.T,\n",
    "                                                                   ( np.dot(x, self.theta) - y ))\n",
    "            stepSize = np.sqrt( np.sum( (thetaNew- self.theta)**2 ) );\n",
    "            self.theta = thetaNew\n",
    "            iterCounter+= 1\n",
    "            costValues.append( self.cost(x,y) )\n",
    "        print('Parameters after {} iterations with learning_rate {} are {}'.format(iterCounter, \n",
    "                                                                                   self.learning_rate, self.theta))\n",
    "        return costValues;\n",
    "\n",
    "    def predict( self, x ):\n",
    "        return np.dot(x, self.theta)\n",
    "        "
   ]
  },
  {
   "cell_type": "code",
   "execution_count": 3,
   "metadata": {},
   "outputs": [
    {
     "name": "stdout",
     "output_type": "stream",
     "text": [
      "Parameters after 9123 iterations with learning_rate 0.01 are [[5.49714825]\n",
      " [1.97457091]]\n"
     ]
    }
   ],
   "source": [
    "xTrain = np.c_[ np.ones((x.shape[0],1)), x]\n",
    "lr = LinearRegression();\n",
    "lr.fit(xTrain,y);"
   ]
  },
  {
   "cell_type": "code",
   "execution_count": 4,
   "metadata": {},
   "outputs": [
    {
     "data": {
      "image/png": "[encoded data removed]",
      "text/plain": [
       "<Figure size 432x288 with 1 Axes>"
      ]
     },
     "metadata": {
      "needs_background": "light"
     },
     "output_type": "display_data"
    }
   ],
   "source": [
    "xTest = np.arange(-0.2,1.2,0.1)\n",
    "yPred = lr.predict( [[1,x] for x in xTest] )\n",
    "\n",
    "plt.scatter(x,y,s=10);\n",
    "plt.plot( xTest, yPred, color='r' );\n",
    "plt.xlabel('x')\n",
    "plt.ylabel('y')\n",
    "plt.show();"
   ]
  },
  {
   "cell_type": "markdown",
   "metadata": {},
   "source": [
    "### With small learning_rate, we will always converge eventually - but can be too slow. So we can try tweaking our learning rate to some higher value"
   ]
  },
  {
   "cell_type": "code",
   "execution_count": 5,
   "metadata": {},
   "outputs": [
    {
     "name": "stdout",
     "output_type": "stream",
     "text": [
      "Parameters after 1243 iterations with learning_rate 0.1 are [[5.49775087]\n",
      " [1.97341639]]\n",
      "Parameters after 57945 iterations with learning_rate 0.001 are [[5.49112488]\n",
      " [1.98611068]]\n"
     ]
    }
   ],
   "source": [
    "lr = LinearRegression( learning_rate = 0.1 )\n",
    "lr.fit(xTrain,y);\n",
    "\n",
    "lr = LinearRegression( learning_rate = 0.001 )\n",
    "lr.fit(xTrain,y);"
   ]
  },
  {
   "cell_type": "markdown",
   "metadata": {},
   "source": [
    "### Note that because of our condition to stop iterating once our last change in theta is less than a limit ( 1e-6 here ), we may end up very close to minima, but end values can be different.<br>However, with big enough learning rate, we may not converge as we may end up oscillating around minimum point. It is  useful to have maximum cap on total number of iterations for which we run gradient descent"
   ]
  },
  {
   "cell_type": "code",
   "execution_count": 6,
   "metadata": {},
   "outputs": [
    {
     "name": "stderr",
     "output_type": "stream",
     "text": [
      "//anaconda3/lib/python3.7/site-packages/numpy/core/fromnumeric.py:86: RuntimeWarning: overflow encountered in reduce\n",
      "  return ufunc.reduce(obj, axis, dtype, out, **passkwargs)\n",
      "//anaconda3/lib/python3.7/site-packages/ipykernel_launcher.py:22: RuntimeWarning: overflow encountered in square\n",
      "//anaconda3/lib/python3.7/site-packages/ipykernel_launcher.py:11: RuntimeWarning: overflow encountered in square\n",
      "  # This is added back by InteractiveShellApp.init_path()\n"
     ]
    },
    {
     "name": "stdout",
     "output_type": "stream",
     "text": [
      "Parameters after 100000 iterations with learning_rate 1.6 are [[-8.82429385e+250]\n",
      " [-4.60597801e+250]]\n"
     ]
    }
   ],
   "source": [
    "lr = LinearRegression( learning_rate = 1.6 )\n",
    "lr.fit(xTrain,y);"
   ]
  },
  {
   "cell_type": "markdown",
   "metadata": {},
   "source": [
    "### Let's plot how cost function changes, as we iterate. Given our cost function is a convex function, we are guaranteed to find the global minima"
   ]
  },
  {
   "cell_type": "code",
   "execution_count": 7,
   "metadata": {},
   "outputs": [
    {
     "name": "stdout",
     "output_type": "stream",
     "text": [
      "Parameters after 9123 iterations with learning_rate 0.01 are [[5.49714825]\n",
      " [1.97457091]]\n"
     ]
    },
    {
     "data": {
      "image/png": "[encoded data removed]",
      "text/plain": [
       "<Figure size 432x288 with 1 Axes>"
      ]
     },
     "metadata": {
      "needs_background": "light"
     },
     "output_type": "display_data"
    }
   ],
   "source": [
    "lr = LinearRegression()\n",
    "costFunctions = lr.fit(xTrain,y)\n",
    "\n",
    "plt.plot(range(len(costFunctions)),costFunctions)\n",
    "plt.xlabel('#iterations')\n",
    "plt.ylabel('cost function')\n",
    "plt.show()"
   ]
  },
  {
   "cell_type": "markdown",
   "metadata": {},
   "source": [
    "### Now how do we evaluate the performance of our model ? Let's look at two statistics : RMSE and R^2"
   ]
  },
  {
   "cell_type": "code",
   "execution_count": 8,
   "metadata": {},
   "outputs": [
    {
     "name": "stdout",
     "output_type": "stream",
     "text": [
      "RMSE for our model is 0.316\n",
      "Coefficient of determination ( R^2 ) is 0.227\n"
     ]
    }
   ],
   "source": [
    "yPredicted = lr.predict(xTrain)\n",
    "RMSE = np.sqrt( (1/xTrain.shape[0])*np.sum( (yPredicted-y)**2 ) )  #here, square root of our cost function\n",
    "Rsquared = 1 - np.sum( (yPredicted - np.mean(y))**2 )/np.sum( (y - np.mean(y))**2 )# also known as coefficient of determination\n",
    "print('RMSE for our model is %.3f' % RMSE )\n",
    "print('Coefficient of determination ( R^2 ) is %.3f' % Rsquared )"
   ]
  },
  {
   "cell_type": "markdown",
   "metadata": {},
   "source": [
    "### Using normal equation to find optimal parameters  - Note that it is pretty close to what we found using our gradient descent implementation. We use following equation : theta =   $(X^{T}$$X)^{-1}$$X^{T}$$Y$\n",
    "#### Note that it is possible that $X^{T}$$X$ may be non-invertible, in which case we can use pseudo-inverse "
   ]
  },
  {
   "cell_type": "code",
   "execution_count": 9,
   "metadata": {},
   "outputs": [
    {
     "name": "stdout",
     "output_type": "stream",
     "text": [
      "Optimal parmeters found using normal equation are [[5.49781698]\n",
      " [1.97328974]]\n"
     ]
    }
   ],
   "source": [
    "thetaOptimal = np.dot( np.linalg.inv( np.dot(xTrain.T, xTrain) ), np.dot( xTrain.T, y ) )\n",
    "print('Optimal parmeters found using normal equation are {}'.format(thetaOptimal))"
   ]
  }
 ],
 "metadata": {
  "kernelspec": {
   "display_name": "Python 3",
   "language": "python",
   "name": "python3"
  },
  "language_info": {
   "codemirror_mode": {
    "name": "ipython",
    "version": 3
   },
   "file_extension": ".py",
   "mimetype": "text/x-python",
   "name": "python",
   "nbconvert_exporter": "python",
   "pygments_lexer": "ipython3",
   "version": "3.7.3"
  }
 },
 "nbformat": 4,
 "nbformat_minor": 2
}
