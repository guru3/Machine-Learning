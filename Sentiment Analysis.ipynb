{
 "cells": [
  {
   "cell_type": "code",
   "execution_count": 1,
   "metadata": {},
   "outputs": [],
   "source": [
    "#Get the movie sentiment corpus data\n",
    "import os\n",
    "import numpy as np\n",
    "from collections import Counter\n",
    "\n",
    "words_to_select = 5000;\n",
    "total_examples = 2000; #this is same number of examples in our input corpus\n",
    "corpus_path = './corpus/' #this path needs to be changed depending on where your files lie\n",
    "sub_directories = [ 'pos', 'neg' ]\n",
    "\n",
    "def get_data():\n",
    "    all_words = []\n",
    "    positive_ex = 0;\n",
    "    negative_ex = 0;\n",
    "    for subdir in sub_directories:\n",
    "        sentiment = corpus_path + subdir;\n",
    "        files = [ os.path.join(sentiment,f) for f in os.listdir(sentiment) ]\n",
    "        if( subdir == 'pos' ):\n",
    "            positive_ex = positive_ex + len( files )\n",
    "        else:\n",
    "            negative_ex = negative_ex + len( files )\n",
    "        for file in files:\n",
    "            for line in open( file, 'r' ).read().splitlines():\n",
    "                words = line.split()\n",
    "                all_words += words\n",
    "    dictionary = Counter(all_words)\n",
    "    list_to_check = dictionary.keys()\n",
    "    elem_to_remove = [];\n",
    "    \n",
    "    for item in list_to_check:\n",
    "        if ( item.isalpha() == False ) or ( len(item) == 1 ):\n",
    "            #word with length > 1 and with alphabetic characters only\n",
    "            elem_to_remove.append( item )\n",
    "    for item in elem_to_remove:\n",
    "        del dictionary[item]\n",
    "    dictionary = dictionary.most_common( words_to_select )\n",
    "    return [ positive_ex, negative_ex, dictionary ]"
   ]
  },
  {
   "cell_type": "code",
   "execution_count": 2,
   "metadata": {},
   "outputs": [],
   "source": [
    "def extract_features_frequency( dictionary ):\n",
    "    docId = 0\n",
    "    features_matrix = np.zeros((total_examples, words_to_select))\n",
    "    for subdir in sub_directories:\n",
    "        sentiment = corpus_path + subdir;\n",
    "        files = [ os.path.join(sentiment,f) for f in os.listdir(sentiment) ]\n",
    "        for file in files:\n",
    "            all_words = []\n",
    "            for line in open( file, 'r' ).read().splitlines():\n",
    "                words = line.split()\n",
    "                all_words += words\n",
    "            for word in all_words:\n",
    "                for i,d in enumerate(dictionary):\n",
    "                    if d[0] == word:\n",
    "                        features_matrix[docId,i] = \\\n",
    "                            all_words.count(word)\n",
    "            docId = docId + 1\n",
    "    return features_matrix"
   ]
  },
  {
   "cell_type": "code",
   "execution_count": 3,
   "metadata": {},
   "outputs": [],
   "source": [
    "[ positive_ex, negative_ex, dictionary ] = get_data()\n",
    "word_features_matrix = extract_features_frequency( dictionary )"
   ]
  },
  {
   "cell_type": "code",
   "execution_count": 6,
   "metadata": {},
   "outputs": [
    {
     "name": "stdout",
     "output_type": "stream",
     "text": [
      "Train accuracy is  90.43 %\n",
      "Test accuracy is  82.1 %\n"
     ]
    }
   ],
   "source": [
    "from sklearn.naive_bayes import MultinomialNB\n",
    "from sklearn.metrics import confusion_matrix\n",
    "from sklearn.svm import LinearSVC\n",
    "from sklearn.model_selection import StratifiedKFold\n",
    "\n",
    "total_examples = positive_ex + negative_ex\n",
    "total_splits = 10\n",
    "\n",
    "labels = np.zeros(total_examples);\n",
    "labels[0:positive_ex] = 0;\n",
    "labels[positive_ex:total_examples] = 1;\n",
    "\n",
    "folds = StratifiedKFold( n_splits=total_splits )\n",
    "\n",
    "model = MultinomialNB()\n",
    "test_accuracy_h = [ 0.0, 0.0 ]\n",
    "train_accuracy_h = [ 0.0, 0.0 ]\n",
    "for train_indices, test_indices in folds.split(word_features_matrix , labels):\n",
    "    \n",
    "    X_train = [ word_features_matrix[ index ] for index in train_indices ]\n",
    "    X_test  = [ word_features_matrix[ index ] for index in test_indices ]\n",
    "    Y_train = labels[ train_indices ]\n",
    "    Y_test  = labels[ test_indices ]\n",
    "    \n",
    "    model.fit( X_train, Y_train )\n",
    "    train_result = model.predict( X_train )\n",
    "    test_result = model.predict( X_test )\n",
    "    \n",
    "    train_accuracy_h[0] = train_accuracy_h[0] + sum( train_result==Y_train )\n",
    "    test_accuracy_h[0] = test_accuracy_h[0] + sum( test_result==Y_test )\n",
    "    train_accuracy_h[1] = train_accuracy_h[1] + len( train_result )\n",
    "    test_accuracy_h[1] = test_accuracy_h[1] + len( test_result )\n",
    "\n",
    "train_acc = (train_accuracy_h[0]*100)/train_accuracy_h[1]    \n",
    "test_acc = (test_accuracy_h[0]*100)/test_accuracy_h[1]\n",
    "print('Train accuracy is ', round(train_acc, 2 ), '%')\n",
    "print('Test accuracy is ', round(test_acc, 2 ), '%')"
   ]
  },
  {
   "cell_type": "code",
   "execution_count": null,
   "metadata": {},
   "outputs": [],
   "source": []
  }
 ],
 "metadata": {
  "kernelspec": {
   "display_name": "Python 3",
   "language": "python",
   "name": "python3"
  },
  "language_info": {
   "codemirror_mode": {
    "name": "ipython",
    "version": 3
   },
   "file_extension": ".py",
   "mimetype": "text/x-python",
   "name": "python",
   "nbconvert_exporter": "python",
   "pygments_lexer": "ipython3",
   "version": "3.7.4"
  }
 },
 "nbformat": 4,
 "nbformat_minor": 2
}
