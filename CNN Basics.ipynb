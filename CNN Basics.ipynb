{
 "cells": [
  {
   "cell_type": "markdown",
   "metadata": {},
   "source": [
    "Convolutional Neural Networks is class of deep learning models, that is primarily used for analyzing visual imagery. A convolution layer transforms an input volume into an output volume of different size.\n",
    "Let's introduce some basic concepts in CNNs - that will together later make CNNs a really powerful tool.\n",
    "\n",
    "### Padding\n",
    "Padding provides control onto the size of volumes in the network. For a deeper CNN, it plays an important role by discouraging shrinking of the volumes. It also plays a role by keeping more of information at the border of an image.\n",
    "Note that after applying padding, height and width of image change by twice the padding size!"
   ]
  },
  {
   "cell_type": "code",
   "execution_count": 1,
   "metadata": {},
   "outputs": [
    {
     "name": "stdout",
     "output_type": "stream",
     "text": [
      "x.shape = (4, 3)\n",
      "shape after applying pad of size 1 is (6, 5)\n",
      "shape after applying pad of size 2 is (8, 7)\n",
      "shape after applying pad of size 3 is (10, 9)\n"
     ]
    }
   ],
   "source": [
    "import numpy as np\n",
    "import matplotlib.pyplot as plt\n",
    "\n",
    "def pad( input_volume, pad_size, pad ):\n",
    "    return np.pad( input_volume, ((pad_size,pad_size),(pad_size,pad_size)), 'constant', constant_values=pad )\n",
    "\n",
    "np.random.seed(1) #to keep behaviour consistent\n",
    "x = np.random.randn(4,3)\n",
    "print (\"x.shape =\", x.shape)\n",
    "plt.imshow(x)\n",
    "\n",
    "fig, axarr = plt.subplots(1,3)\n",
    "\n",
    "indexi = 0;\n",
    "for pad_size in [1,2,3]:\n",
    "    pad_value = np.random.randint(4)\n",
    "    x_pad = pad(x, pad_size, pad_value )\n",
    "    print (\"shape after applying pad of size {} is {}\".format(pad_size, x_pad.shape ))\n",
    "    axarr[indexi].set_title('with size {} and pad {}'.format(pad_size, pad_value))\n",
    "    axarr[indexi].imshow(x_pad)\n",
    "    indexi = indexi + 1\n",
    "fig.tight_layout()"
   ]
  },
  {
   "cell_type": "markdown",
   "metadata": {},
   "source": [
    "### Strides\n",
    "\n",
    "When applying a filter on an input volume, we need not iterate by step of 1 pixel as we slide over the input volume - rather we can have a step size i.e stride. In practice, stride lengths of S >= 3 are rare.\n",
    "We can see below that as we increase stride size, total number of iterations for whole volume decrease, and final output size decrease as well. Note that volume of output will be floor[(h-f)/stride + 1] * floor[(w-f)/stride + 1] * #channels"
   ]
  },
  {
   "cell_type": "code",
   "execution_count": 2,
   "metadata": {},
   "outputs": [
    {
     "data": {
      "image/png": "[encoded data removed]",
      "text/plain": [
       "<Figure size 432x288 with 4 Axes>"
      ]
     },
     "metadata": {
      "needs_background": "light"
     },
     "output_type": "display_data"
    }
   ],
   "source": [
    "#Let's say we have 3x3 filter we are applying on a 6x6x1 volume\n",
    "def stride( x, filtr, stride_length):  #here we show on 2D matrix only\n",
    "    (h,w) = x.shape\n",
    "    (f,f) = filtr.shape\n",
    "    #output volume will be : floor( [h-f]/s ) + 1\n",
    "    outputH = (int)( (h-f)/stride_length + 1)\n",
    "    outputW = (int)( (w-f)/stride_length + 1)\n",
    "    output = np.zeros((outputH, outputW))\n",
    "    for i in range(outputH):\n",
    "        for j in range(outputW):\n",
    "            x_part = x[(stride_length*i):(stride_length*i+f), (stride_length*j):(stride_length*j+f)]\n",
    "            output[i][j] = np.sum( np.multiply(x_part,f) ) #no bias\n",
    "    return output\n",
    "\n",
    "np.random.seed(1)\n",
    "x = np.random.randn(6,6)\n",
    "filtr = np.array([[1,0,-1],[1,0,-1],[1,0,-1]])\n",
    "\n",
    "fig, axarr = plt.subplots(1,4)\n",
    "axarr[0].set_title('original')\n",
    "axarr[0].imshow(x)\n",
    "indexi = 1;\n",
    "for stride_length in [1,2,3]:\n",
    "    output = stride(x, filtr, stride_length)\n",
    "    axarr[indexi].set_title('with stride {}'.format(stride_length))\n",
    "    axarr[indexi].imshow(output)\n",
    "    indexi = indexi + 1\n",
    "\n",
    "fig.tight_layout()"
   ]
  },
  {
   "cell_type": "markdown",
   "metadata": {},
   "source": [
    "### Pooling\n",
    "\n",
    "The pooling layer plays a rule in reducing the height and width of the input, thus reducing total computation cost to iterate as we go deeper in the network. It also helps make feature detectors more invariant to its position in the input. Two kinds of pooling we will see now as 'MAX' and 'AVG' - we slide a fxf size filter and compute either max/avg of current window."
   ]
  },
  {
   "cell_type": "code",
   "execution_count": 3,
   "metadata": {},
   "outputs": [
    {
     "data": {
      "image/png": "[encoded data removed]",
      "text/plain": [
       "<Figure size 432x288 with 8 Axes>"
      ]
     },
     "metadata": {
      "needs_background": "light"
     },
     "output_type": "display_data"
    }
   ],
   "source": [
    "def pool( x, f_size, stride_length, typ='MAX' ):\n",
    "    (h,w) = x.shape\n",
    "    outputH = (int)( (h-f_size)/stride_length + 1)\n",
    "    outputW = (int)( (w-f_size)/stride_length + 1)\n",
    "    output = np.zeros((outputH,outputW))\n",
    "    for i in range(outputH):\n",
    "        for j in range(outputW):\n",
    "            x_part = x[(stride_length*i):(stride_length*i+f_size), (stride_length*j):(stride_length*j+f_size)]\n",
    "            if typ=='MAX':\n",
    "                output[i][j] = np.max( x_part )\n",
    "            elif typ=='AVG':\n",
    "                output[i][j] = np.mean( x_part )\n",
    "    return output\n",
    "\n",
    "np.random.seed(1)\n",
    "x = np.random.randn(6,6)\n",
    "\n",
    "fig, axarr = plt.subplots(2,4)\n",
    "for i in range(2):\n",
    "    axarr[i][0].set_title('original')\n",
    "    axarr[i][0].imshow(x)\n",
    "    indexi = 1;\n",
    "    for f_size in [1,2,3]:\n",
    "        if i==0:\n",
    "            output = pool(x, f_size, f_size, typ='MAX')\n",
    "            axarr[i][indexi].set_title('MAX with size {}'.format(f_size))\n",
    "        else:\n",
    "            output = pool(x, f_size, f_size, typ='AVG')\n",
    "            axarr[i][indexi].set_title('AVG with size {}'.format(f_size))\n",
    "        axarr[i][indexi].imshow(output)\n",
    "        indexi = indexi + 1\n",
    "fig.tight_layout()"
   ]
  },
  {
   "cell_type": "markdown",
   "metadata": {},
   "source": [
    "### CNN forward pass\n",
    "Let's see how forward pass in a CNN works - typically as we work on projects, we won't code this thing up, rather use awesome deep learning frameworks like tensorflow, etc to make things easy for us."
   ]
  },
  {
   "cell_type": "code",
   "execution_count": 4,
   "metadata": {},
   "outputs": [],
   "source": [
    "#say, we have m training examples in our current batch of optimization step\n",
    "def forward_pass(inputI, W, b, stride, pad_size):\n",
    "    (m, inputH, inputW, inputC ) = inputI.shape\n",
    "    (f, f, inputC, outputC) = W.shape #we have n_C filters each of volume f*f*( #channels in previous activation )\n",
    "\n",
    "    outputH = int( (inputH + 2*pad_size - f)/stride + 1 )\n",
    "    outputW = int( (inputW + 2*pad_size - f)/stride + 1 )\n",
    "    output = np.zeros(shape=(m, outputH, outputW, outputC))\n",
    "    \n",
    "    input_pad = np.pad( inputI, ((0,0),(pad_size,pad_size),(pad_size,pad_size),(0,0)), 'constant', constant_values=0)\n",
    "    for i in range(m):\n",
    "        input_pad_i = input_pad[i]\n",
    "        for h in range(outputH):\n",
    "            for w in range(outputW):\n",
    "                for c in range(outputC):\n",
    "                    input_part = input_pad_i[(h*stride):(h*stride+f),(w*stride):(w*stride+f),:]\n",
    "                    output[i, h, w, c] = np.sum( np.multiply( input_part, W[...,c] ) ) + (float)(b[...,c])\n",
    "\n",
    "    assert(output.shape == (m, outputH, outputW, outputC))\n",
    "    return output"
   ]
  },
  {
   "cell_type": "code",
   "execution_count": 5,
   "metadata": {},
   "outputs": [
    {
     "name": "stdout",
     "output_type": "stream",
     "text": [
      "Output size is (10, 4, 4, 8)\n",
      "Output[1,1,1,:] is [ 0.08367282 -2.0808981  -4.16119517  3.38827198  0.54974167 -1.78610875\n",
      " -4.71325433 -0.89005663]\n"
     ]
    }
   ],
   "source": [
    "np.random.seed(1)\n",
    "A_prev = np.random.randn(10,4,4,3)\n",
    "W = np.random.randn(2,2,3,8)\n",
    "b = np.random.randn(1,1,1,8)\n",
    "output = forward_pass(A_prev, W, b, 2,2)\n",
    "print(\"Output size is {}\".format(output.shape))\n",
    "print(\"Output[1,1,1,:] is {}\".format(output[1][1][1][:])); #all channels of first example, first row and first column"
   ]
  }
 ],
 "metadata": {
  "kernelspec": {
   "display_name": "Python 3",
   "language": "python",
   "name": "python3"
  },
  "language_info": {
   "codemirror_mode": {
    "name": "ipython",
    "version": 3
   },
   "file_extension": ".py",
   "mimetype": "text/x-python",
   "name": "python",
   "nbconvert_exporter": "python",
   "pygments_lexer": "ipython3",
   "version": "3.7.3"
  }
 },
 "nbformat": 4,
 "nbformat_minor": 2
}
